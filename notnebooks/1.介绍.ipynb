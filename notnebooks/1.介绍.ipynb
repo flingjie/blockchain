{
 "cells": [
  {
   "cell_type": "markdown",
   "metadata": {},
   "source": [
    "提起区块链，大家可能会想到比特币。其实呢，这些和区块链技术本身不能划等号。区块链是随着比特币的产生而产生，并且在信息传播的时候比特币和区块链经常同时出现，所以有些人就会认为区块链就是比特币。\n",
    "\n",
    "实则不然。好比用石头建造房子，区块链技术就像石头，而比特币只是其中的一幢房子。石头本身只是基础，用石头还可以建造金字塔和长城。用区块链技术也可以用来实现更多更广泛的应用。比特币是区块链最成功的应用，而区块链技术的应用远不止比特币。\n",
    "\n",
    "简单来说，区块链是一个分布式的账本系统。在这个分布式系统中，没有中心，每个节点都是平等的。\n",
    "\n",
    "近年来，区块链被认为是未来几十年产生最大影响的技术之一。它将带领我们走进下一个互联网时代——价值互联网，特别是在金融、物联网、资料管理、医疗等众多领域发挥越来越大的作用。\n",
    "\n",
    "本系列将由浅入深对介绍区块链技术相关的知识，目录结构如下：\n",
    "\n",
    "![区块链](./深入浅出区块链.png)\n",
    "\n",
    "欢迎感兴趣的同学参与学习讨论。"
   ]
  }
 ],
 "metadata": {
  "kernelspec": {
   "display_name": "Python 3",
   "language": "python",
   "name": "python3"
  },
  "language_info": {
   "codemirror_mode": {
    "name": "ipython",
    "version": 3
   },
   "file_extension": ".py",
   "mimetype": "text/x-python",
   "name": "python",
   "nbconvert_exporter": "python",
   "pygments_lexer": "ipython3",
   "version": "3.5.1"
  }
 },
 "nbformat": 4,
 "nbformat_minor": 2
}
