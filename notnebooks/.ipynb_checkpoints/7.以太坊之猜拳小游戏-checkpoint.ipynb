{
 "cells": [
  {
   "cell_type": "markdown",
   "metadata": {
    "collapsed": true
   },
   "source": [
    "在本文中将实现一个简单的以太坊猜拳小游戏, 就是石头剪刀布游戏。实现的功能很简单，就是在页面上选择石头剪刀布中的一个手势，然后和电脑随机选择的一个手势通过智能合约来返回游戏结果。效果如下：\n",
    "\n",
    "\n",
    "![guess.gif](guess.gif)\n"
   ]
  },
  {
   "cell_type": "markdown",
   "metadata": {},
   "source": [
    "### 一、初始化项目"
   ]
  },
  {
   "cell_type": "markdown",
   "metadata": {},
   "source": [
    "参照上一篇中的步骤新建一个项目，目录结构如下：\n",
    "```\n",
    ".\n",
    "├── contracts\n",
    "│   └── Migrations.sol\n",
    "├── migrations\n",
    "│   └── 1_initial_migration.js\n",
    "├── test\n",
    "├── truffle-config.js\n",
    "└── truffle.js\n",
    "```"
   ]
  },
  {
   "cell_type": "markdown",
   "metadata": {},
   "source": [
    "更新配置文件truffle.js为：\n",
    "```javascript\n",
    "module.exports = {\n",
    "  networks: {\n",
    "    development: {\n",
    "      host: \"127.0.0.1\",\n",
    "      port: 8545,\n",
    "      network_id: \"*\" // Match any network id\n",
    "    }\n",
    "  }\n",
    "};\n",
    "```"
   ]
  },
  {
   "cell_type": "markdown",
   "metadata": {},
   "source": [
    "### 二、实现智能合约"
   ]
  },
  {
   "cell_type": "markdown",
   "metadata": {
    "collapsed": true
   },
   "source": [
    "合约的功能是实现输入选项，返回游戏结果，代码如下:\n",
    "```javascript\n",
    "pragma solidity ^0.4.16;\n",
    "\n",
    "\n",
    "contract GuessGame {\n",
    "\n",
    "    // 定义一个事件，用来发送结果\n",
    "    event GuessResult(uint playerChoice, uint computerChoice, uint result);\n",
    "\n",
    "    // 处理游戏结果并返回\n",
    "    function play(uint playerChoice, uint computerChoice) public returns (bool) {\n",
    "        if (playerChoice > 0 && playerChoice <= 3 && computerChoice > 0 && computerChoice <= 3) {\n",
    "            // 如果两者相同，则代表平手\n",
    "            if (playerChoice == computerChoice) {\n",
    "                GuessResult(playerChoice, computerChoice, 1);   // 回调1 代表平手\n",
    "            } else if (playerChoice == (computerChoice + 1) % 3) {\n",
    "                GuessResult(playerChoice, computerChoice, 2);  // 回调2 代表电脑赢了\n",
    "            } else {\n",
    "                GuessResult(playerChoice, computerChoice, 3);  // 回调3 代表玩家赢了\n",
    "            }\n",
    "            return true; //执行成功返回true\n",
    "        } else {\n",
    "            return false;  // 执行错误返回false\n",
    "        }\n",
    "    }\n",
    "}\n",
    "```"
   ]
  },
  {
   "cell_type": "markdown",
   "metadata": {},
   "source": [
    "这里有两个需要注意的地方，一是事件event，二是payable关键字。"
   ]
  },
  {
   "cell_type": "markdown",
   "metadata": {},
   "source": [
    "**事件event**"
   ]
  },
  {
   "cell_type": "markdown",
   "metadata": {},
   "source": [
    "在智能合约中，事件(event)是太坊虚拟机提供的一种操作日志的工具，也可以用来实现一些交互功能，比如通知UI，返回函数调用结果等。DApp开发中可以通过事件的方式，回调JavaScript中的监听函数。比如上面的play函数可以通过以下方式进行监听:\n",
    "\n",
    "```javascript\n",
    "var event = guess_contract.GuessResult();\n",
    "event.watch(function(err, result) {\n",
    "    if (!err) {\n",
    "        console.log(result);\n",
    "    } else {\n",
    "        console.log(err);\n",
    "    }\n",
    "})\n",
    "```\n",
    "\n",
    "或者直接回调的方法\n",
    "```javascript\n",
    "var event = guess_contract.GuessResult(function(err, result) {\n",
    "    if (!err) {\n",
    "        console.log(result);\n",
    "    } else {\n",
    "        console.log(err);\n",
    "    }\n",
    "}\n",
    "```"
   ]
  },
  {
   "cell_type": "markdown",
   "metadata": {},
   "source": [
    "**payable关键字**"
   ]
  },
  {
   "cell_type": "markdown",
   "metadata": {},
   "source": [
    "在上一篇智能合约中简单提过payable这个关键字，它是"
   ]
  }
 ],
 "metadata": {
  "kernelspec": {
   "display_name": "Python 3",
   "language": "python",
   "name": "python3"
  },
  "language_info": {
   "codemirror_mode": {
    "name": "ipython",
    "version": 3
   },
   "file_extension": ".py",
   "mimetype": "text/x-python",
   "name": "python",
   "nbconvert_exporter": "python",
   "pygments_lexer": "ipython3",
   "version": "3.5.1"
  }
 },
 "nbformat": 4,
 "nbformat_minor": 2
}
