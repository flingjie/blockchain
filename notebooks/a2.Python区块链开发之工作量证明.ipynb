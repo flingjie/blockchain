{
 "cells": [
  {
   "cell_type": "markdown",
   "metadata": {},
   "source": [
    "在上一篇中实现了一个区块链原型，而真正的区块链是一种去中心化的分布式账本系统。在分布式系统中，往往需要在各个节点之间保持一致性，这种保持一致性的算法叫做共识算法。常用的共识机制有工作量证明(POW)、权益证明(POS)、委任权益证明(DPos)、委任权益证明(DPos)等。下面简单介绍下各种共识机制的原理及其优缺点。"
   ]
  },
  {
   "cell_type": "markdown",
   "metadata": {},
   "source": [
    ">工作量证明(Proof Of Work)，简称POW，就是通常说的挖矿，通过机器运算，计算出一个满足规则的随机数(Nonce)，即获得本次记账权，广播至全网其它节点验证后记录区块链。\n",
    "\n",
    ">优点：完全去中心化，节点自由进出；\n",
    "\n",
    ">缺点：计算造成大量的资源浪费；共识达成的周期较长"
   ]
  },
  {
   "cell_type": "markdown",
   "metadata": {},
   "source": [
    ">权益证明(Proof of Stake)，简称POS，节点记账权的获得难度与节点持有的权益成反比，相对于PoW，一定程度减少了数学运算带来的资源消耗，性能也得到了相应的提升，但依然是基于哈希运算竞争获取记账权的方式，可监管性弱。该共识机制容错性和PoW相同。Pow的一种升级共识机制；根据每个节点所占代币的比例和时间；等比例的降低挖矿难度，从而加快找随机数的速度。\n",
    "\n",
    ">优点：在一定程度上缩短了共识达成的时间\n",
    "\n",
    ">缺点：还是需要挖矿，本质上没有解决商业应用的痛点"
   ]
  },
  {
   "cell_type": "markdown",
   "metadata": {},
   "source": [
    ">委任权益证明(Delegated Proof of Stake)，简称(DPos), 类似于董事会投票，让每一个持有比特股的人进行投票，由此产生一定数量的代表 , 让这些代表来代理执行验证和记账。从某种角度来看，DPOS有点像是议会制度或人民代表大会制度。如果代表不能履行他们的职责（当轮到他们时，没能生成区块），他们会被除名，网络会选出新的超级节点来取代他们。\n",
    "\n",
    ">优点：大幅缩小参与验证和记账节点的数量，可以达到秒级的共识验证\n",
    "\n",
    ">缺点：实现比较复杂"
   ]
  },
  {
   "cell_type": "markdown",
   "metadata": {},
   "source": [
    "接下来，在原型的基础上加入一种共识机制，这里实现的是是比特币的工作量证明机制。比特币使用Hashcash ，一个最初用来防止垃圾邮件的工作量证明算法。它步骤如下：\n",
    "\n",
    "1. 取一些公开的数据（比如，如果是 email 的话，它可以是接收者的邮件地址；在比特币中，它是区块头）\n",
    "2. 给这个公开数据添加一个计数器。计数器默认从 0 开始\n",
    "3. 将 data(数据) 和 counter(计数器) 组合到一起，获得一个哈希\n",
    "4. 检查哈希是否符合一定的条件： 1.如果符合条件，结束 2.如果不符合，增加计数器，重复步骤 3-4"
   ]
  },
  {
   "cell_type": "markdown",
   "metadata": {},
   "source": [
    "其中哈希要满足的必要条件，在原始的 Hashcash 实现中，它的要求是 “一个哈希的前20位必须是0”。在比特币中，这个要求会随着时间而不断变化。因为按照设计，必须保证每10分钟生成一个块，而不论计算能力会随着时间增长还是越来越多的矿工加入，所以比特币的挖矿越来越难。这里在本地尝试计算下不同条件下计算工作量证明需要的次数和时间。"
   ]
  },
  {
   "cell_type": "code",
   "execution_count": 23,
   "metadata": {},
   "outputs": [],
   "source": [
    "from hashlib import sha256\n",
    "import time\n",
    "import random\n",
    "import string\n",
    "\n",
    "def random_data():\n",
    "    return ''.join(random.choice(string.ascii_uppercase + string.digits) for _ in range(10))\n",
    "\n",
    "\n",
    "def mine(data, difficulty=1):\n",
    "    \"\"\"\n",
    "        挖矿函数\n",
    "            data：数据\n",
    "            difficulty: 困难值，即计算的哈希值要满足的条件\n",
    "    \"\"\"\n",
    "    i = 0\n",
    "    prefix = '0' * difficulty\n",
    "    start_time = time.time()\n",
    "    while True:\n",
    "        nonce = str(i)\n",
    "        message = sha256()\n",
    "        message.update(data.encode(\"utf-8\"))\n",
    "        message.update(nonce.encode(\"utf-8\"))\n",
    "        digest =message.hexdigest()\n",
    "        if digest.startswith(prefix):\n",
    "            return nonce, i, time.time() - start_time\n",
    "        i += 1"
   ]
  },
  {
   "cell_type": "code",
   "execution_count": 37,
   "metadata": {},
   "outputs": [],
   "source": [
    "# 准备测试数据\n",
    "test_data = []\n",
    "for i in range(5):\n",
    "    test_data.append(random_data())"
   ]
  },
  {
   "cell_type": "code",
   "execution_count": 38,
   "metadata": {},
   "outputs": [
    {
     "data": {
      "text/plain": [
       "['FLJTF8AM0J', 'DT7ARXBE5N', 'ZQV5UH860S', '8TSN4UP9VI', 'N0MUVKLDU6']"
      ]
     },
     "execution_count": 38,
     "metadata": {},
     "output_type": "execute_result"
    }
   ],
   "source": [
    "test_data"
   ]
  },
  {
   "cell_type": "code",
   "execution_count": 44,
   "metadata": {},
   "outputs": [
    {
     "name": "stdout",
     "output_type": "stream",
     "text": [
      "##################################\n",
      "Difficult: 1\n",
      "----------------------------\n",
      "data: FLJTF8AM0J\n",
      "Iter: 59, Cost Time: 0.00021505355834960938 sec\n",
      "----------------------------\n",
      "data: DT7ARXBE5N\n",
      "Iter: 8, Cost Time: 5.602836608886719e-05 sec\n",
      "----------------------------\n",
      "data: ZQV5UH860S\n",
      "Iter: 29, Cost Time: 0.0001571178436279297 sec\n",
      "----------------------------\n",
      "data: 8TSN4UP9VI\n",
      "Iter: 19, Cost Time: 8.893013000488281e-05 sec\n",
      "----------------------------\n",
      "data: N0MUVKLDU6\n",
      "Iter: 15, Cost Time: 0.00010418891906738281 sec\n",
      "##################################\n",
      "Difficult: 2\n",
      "----------------------------\n",
      "data: FLJTF8AM0J\n",
      "Iter: 102, Cost Time: 0.0005571842193603516 sec\n",
      "----------------------------\n",
      "data: DT7ARXBE5N\n",
      "Iter: 233, Cost Time: 0.0013020038604736328 sec\n",
      "----------------------------\n",
      "data: ZQV5UH860S\n",
      "Iter: 162, Cost Time: 0.0007348060607910156 sec\n",
      "----------------------------\n",
      "data: 8TSN4UP9VI\n",
      "Iter: 70, Cost Time: 0.00030303001403808594 sec\n",
      "----------------------------\n",
      "data: N0MUVKLDU6\n",
      "Iter: 241, Cost Time: 0.0008108615875244141 sec\n",
      "##################################\n",
      "Difficult: 3\n",
      "----------------------------\n",
      "data: FLJTF8AM0J\n",
      "Iter: 382, Cost Time: 0.001689910888671875 sec\n",
      "----------------------------\n",
      "data: DT7ARXBE5N\n",
      "Iter: 5265, Cost Time: 0.01853799819946289 sec\n",
      "----------------------------\n",
      "data: ZQV5UH860S\n",
      "Iter: 3475, Cost Time: 0.010407209396362305 sec\n",
      "----------------------------\n",
      "data: 8TSN4UP9VI\n",
      "Iter: 728, Cost Time: 0.0021109580993652344 sec\n",
      "----------------------------\n",
      "data: N0MUVKLDU6\n",
      "Iter: 871, Cost Time: 0.0024302005767822266 sec\n",
      "##################################\n",
      "Difficult: 4\n",
      "----------------------------\n",
      "data: FLJTF8AM0J\n",
      "Iter: 22556, Cost Time: 0.06089210510253906 sec\n",
      "----------------------------\n",
      "data: DT7ARXBE5N\n",
      "Iter: 14681, Cost Time: 0.040502071380615234 sec\n",
      "----------------------------\n",
      "data: ZQV5UH860S\n",
      "Iter: 35809, Cost Time: 0.11967325210571289 sec\n",
      "----------------------------\n",
      "data: 8TSN4UP9VI\n",
      "Iter: 17392, Cost Time: 0.046649932861328125 sec\n",
      "----------------------------\n",
      "data: N0MUVKLDU6\n",
      "Iter: 154303, Cost Time: 0.4365050792694092 sec\n",
      "##################################\n",
      "Difficult: 5\n",
      "----------------------------\n",
      "data: FLJTF8AM0J\n",
      "Iter: 492017, Cost Time: 1.6189451217651367 sec\n",
      "----------------------------\n",
      "data: DT7ARXBE5N\n",
      "Iter: 171753, Cost Time: 0.5566070079803467 sec\n",
      "----------------------------\n",
      "data: ZQV5UH860S\n",
      "Iter: 1638855, Cost Time: 4.852108955383301 sec\n",
      "----------------------------\n",
      "data: 8TSN4UP9VI\n",
      "Iter: 2766171, Cost Time: 8.019513130187988 sec\n",
      "----------------------------\n",
      "data: N0MUVKLDU6\n",
      "Iter: 448607, Cost Time: 1.2557687759399414 sec\n",
      "##################################\n",
      "Difficult: 6\n",
      "----------------------------\n",
      "data: FLJTF8AM0J\n",
      "Iter: 511165, Cost Time: 1.4015929698944092 sec\n",
      "----------------------------\n",
      "data: DT7ARXBE5N\n",
      "Iter: 5541810, Cost Time: 16.43273901939392 sec\n",
      "----------------------------\n",
      "data: ZQV5UH860S\n",
      "Iter: 27981755, Cost Time: 80.87076711654663 sec\n",
      "----------------------------\n",
      "data: 8TSN4UP9VI\n",
      "Iter: 38642013, Cost Time: 112.46344089508057 sec\n",
      "----------------------------\n",
      "data: N0MUVKLDU6\n",
      "Iter: 8216169, Cost Time: 23.739604949951172 sec\n"
     ]
    }
   ],
   "source": [
    "# 计算消耗次数和时间\n",
    "\n",
    "difficulties = [i+1 for i in range(6)]\n",
    "n_iters = []\n",
    "cost_times = []\n",
    "\n",
    "for i in difficulties:\n",
    "    print(\"##################################\")\n",
    "    print(\"Difficult: {}\".format(i))\n",
    "    n_iter = 0\n",
    "    cost_time = 0\n",
    "    for data in test_data:\n",
    "        print(\"----------------------------\")\n",
    "        print(\"data: {}\".format(data))\n",
    "        nonce, n, t = mine(data, i)\n",
    "        print(\"Iter: {}, Cost Time: {} sec\".format(n, t))\n",
    "        n_iter += n\n",
    "        cost_time += t\n",
    "    n_iters.append(n_iter / len(test_data))\n",
    "    cost_times.append(cost_time / len(test_data))"
   ]
  },
  {
   "cell_type": "code",
   "execution_count": 49,
   "metadata": {},
   "outputs": [
    {
     "data": {
      "image/png": "[encoded data removed]",
      "text/plain": [
       "<Figure size 432x288 with 2 Axes>"
      ]
     },
     "metadata": {},
     "output_type": "display_data"
    }
   ],
   "source": [
    "%matplotlib inline\n",
    "import matplotlib.pyplot as plt\n",
    "\n",
    "plt.subplot(2, 1, 1) \n",
    "plt.xlabel('Difficulty')\n",
    "plt.ylabel('Iterations')\n",
    "plt.plot(difficulties, n_iters, 'r')\n",
    "plt.subplot(2, 1, 2)\n",
    "plt.xlabel('Difficulty')\n",
    "plt.ylabel('Cost Time')\n",
    "plt.plot(difficulties, cost_times, 'g')\n",
    "plt.show()"
   ]
  },
  {
   "cell_type": "markdown",
   "metadata": {},
   "source": [
    "可以看到随着难度值增加，计算量和消耗时间也是不断增加，而且不同的数据计算所需时间也不同。"
   ]
  },
  {
   "cell_type": "markdown",
   "metadata": {},
   "source": [
    "这里为了方便，将难度值固定为4，更新工作量证明到代码中。"
   ]
  },
  {
   "cell_type": "code",
   "execution_count": 50,
   "metadata": {},
   "outputs": [],
   "source": [
    "# pow.py\n",
    "\n",
    "# -*- coding: utf-8 -*-\n",
    "import hashlib\n",
    "\n",
    "\n",
    "class ProofOfWork():\n",
    "    \"\"\"\n",
    "        工作量证明\n",
    "    \"\"\"\n",
    "    def __init__(self, block, difficult=4):\n",
    "        self.block = block\n",
    "        self.difficulty = difficult\n",
    "\n",
    "    def mine(self):\n",
    "        \"\"\"\n",
    "            挖矿函数\n",
    "        \"\"\"\n",
    "        i = 0\n",
    "        prefix = '0' * self.difficulty\n",
    "\n",
    "        while True:\n",
    "            nonce = str(i)\n",
    "            message = hashlib.sha256()\n",
    "            message.update(str(self.block.prev_hash).encode('utf-8'))\n",
    "            message.update(str(self.block.data).encode('utf-8'))\n",
    "            message.update(str(self.block.timestamp).encode('utf-8'))\n",
    "            message.update(nonce.encode(\"utf-8\"))\n",
    "            digest = message.hexdigest()\n",
    "            if digest.startswith(prefix):\n",
    "                return nonce, digest\n",
    "            i += 1\n",
    "\n",
    "    def validate(self):\n",
    "        \"\"\"\n",
    "            验证有效性\n",
    "        \"\"\"\n",
    "        message = hashlib.sha256()\n",
    "        message.update(str(self.block.prev_hash).encode('utf-8'))\n",
    "        message.update(str(self.block.data).encode('utf-8'))\n",
    "        message.update(str(self.block.timestamp).encode('utf-8'))\n",
    "        message.update(str(self.block.nonce).encode('utf-8'))\n",
    "        digest = message.hexdigest()\n",
    "\n",
    "        prefix = '0' * self.difficulty\n",
    "        return digest.startswith(prefix)"
   ]
  },
  {
   "cell_type": "markdown",
   "metadata": {},
   "source": [
    "其余更新可到GitHub上v2分支进行查看，更新后的区块哈希值都是以0000开头。\n",
    "\n",
    "![blockchain_v2.png](blockchain_v2.png)"
   ]
  }
 ],
 "metadata": {
  "kernelspec": {
   "display_name": "Python 3",
   "language": "python",
   "name": "python3"
  },
  "language_info": {
   "codemirror_mode": {
    "name": "ipython",
    "version": 3
   },
   "file_extension": ".py",
   "mimetype": "text/x-python",
   "name": "python",
   "nbconvert_exporter": "python",
   "pygments_lexer": "ipython3",
   "version": "3.6.4"
  }
 },
 "nbformat": 4,
 "nbformat_minor": 2
}
