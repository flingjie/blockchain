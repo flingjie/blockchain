{
 "cells": [
  {
   "cell_type": "markdown",
   "metadata": {},
   "source": [
    "智能合约本质上是一段程序，程序是需要用编程语言来实现的。和以太坊客户端一样，智能合约也有很多语言版本，这里使用的是官方推荐的编程语言Solidity，文件扩展名以.sol结尾。下面简单简单介绍下Solidity的语法。"
   ]
  },
  {
   "cell_type": "markdown",
   "metadata": {},
   "source": [
    "# 语法"
   ]
  },
  {
   "cell_type": "markdown",
   "metadata": {},
   "source": [
    "### 编译器版本指定"
   ]
  },
  {
   "cell_type": "markdown",
   "metadata": {},
   "source": [
    "和其他语言一样，Solidity语言也是在不断的发展和改进的，不同的版本支持的功能不同，所以sol文件需要指定版本号，通常在sol文件的第一行需要指定。语法如下：\n",
    "\n",
    "```javascript\n",
    "pragma solidity ^0.4.0;\n",
    "```\n",
    "\n",
    "上面的意思这个sol文件需要在0.4.0之后的版本上运行，其中的“^”符号表示不支持0.5.0及之后的版本。"
   ]
  },
  {
   "cell_type": "markdown",
   "metadata": {},
   "source": [
    "### 注释"
   ]
  },
  {
   "cell_type": "markdown",
   "metadata": {},
   "source": [
    "在Solidity中使用“//”表示单行注释，使用“/* ... */ ”表示多行注释\n",
    "\n",
    "```javascript\n",
    "// 这是但行注释\n",
    "\n",
    "/*\n",
    "这是\n",
    "多行注释\n",
    "*/\n",
    "```"
   ]
  },
  {
   "cell_type": "markdown",
   "metadata": {},
   "source": [
    "### 变量声明和常见数据类型"
   ]
  },
  {
   "cell_type": "markdown",
   "metadata": {},
   "source": [
    "```javascript\n",
    "bool b = false; // 布尔类型，默认值为false\n",
    "uint i = 0;     // 整型\n",
    "address addr;   // 地址类型，这是以太坊中的一个特殊类型，为20个字节的值，用来保存一个以太坊地址\n",
    "byte32 by;      //\n",
    "\n",
    "bytes memory varBy;  // 字节数组\n",
    "string memory str;   // UTF-8字符数组\n",
    "uint[] memory arr;   // 整型数组\n",
    "\n",
    "mapping(address => uint) public balances;   // 映射，相当于一个Hash表\n",
    "```"
   ]
  },
  {
   "cell_type": "markdown",
   "metadata": {},
   "source": [
    "### 枚举"
   ]
  },
  {
   "cell_type": "markdown",
   "metadata": {},
   "source": [
    "```javascript\n",
    "\n",
    "enum Color{RED, GREEN, YELLOW};   // 默认从0开始\n",
    "Color light;\n",
    "light.RED;    // 0\n",
    "light.GREEN;  // 1\n",
    "light.YELLOW; // 2\n",
    "\n",
    "\n",
    "```"
   ]
  },
  {
   "cell_type": "markdown",
   "metadata": {},
   "source": [
    "### 结构体"
   ]
  },
  {
   "cell_type": "markdown",
   "metadata": {},
   "source": [
    "```javascript\n",
    "\n",
    "// 定义一个结构体，包含地址和数量两个属性\n",
    "struct Player {\n",
    "        address addr;\n",
    "        uint amount;\n",
    "    }\n",
    "```"
   ]
  },
  {
   "cell_type": "markdown",
   "metadata": {},
   "source": [
    "### 函数"
   ]
  },
  {
   "cell_type": "markdown",
   "metadata": {},
   "source": [
    "Solidity中函数的定义语法如下：\n",
    "\n",
    "```javascript\n",
    "function f(<parameter types>) {internal|external} [pure|constant|view|payable] [returns (<return types>)] {\n",
    "\n",
    " // function body\n",
    "}\n",
    "\n",
    "```\n",
    "\n",
    "其中`<parameter types>`指函数的参数及类型\n",
    "\n",
    "`{internal|external}`这两个关键字规定了函数的调用方式，internal指内部调用，能直接使用上下文环境中的数据; external实现为合约的外部消息调用. 默认是internal.\n",
    "\n",
    "`[pure|constant|view|payable]` 这四个关键字用来说明函数属性。pure关键字来源于函数式编程，表明这个函数体是一个纯函数计算不能调用其他函数；cosntant关键字在0.4.17版本后将废弃使用；view关键字表明这个函数是只读的不能修改状态；如果一个函数需要进行货币操作，必须要带上payable关键字。\n",
    "\n",
    "`[returns (<return types>)]` 用来指明函数的返回类型"
   ]
  },
  {
   "cell_type": "markdown",
   "metadata": {},
   "source": [
    "以上是Solidity语法的简单介绍，详细内容可参看官方教程([http://solidity.readthedocs.io/en/develop/types.html](http://solidity.readthedocs.io/en/develop/types.html))."
   ]
  },
  {
   "cell_type": "markdown",
   "metadata": {},
   "source": [
    "# 编译和执行"
   ]
  },
  {
   "cell_type": "markdown",
   "metadata": {},
   "source": [
    "智能合约在以太坊上运行，需要进行编译和部署。这里推荐使用Truffle工具。Truffle是针对基于以太坊的Solidity语言的一套开发框架。本身基于Javascript。它集成了智能合约的开发，测试，部署，以及一个交互式的命令行功能，极大的方便了调试开发。Truffle的安装命令如下：\n",
    "```shell\n",
    "$ npm install -g truffle\n",
    "```"
   ]
  },
  {
   "cell_type": "markdown",
   "metadata": {},
   "source": [
    "安装完成后使用` truffle init`命令进行初始化。\n",
    "\n",
    "```javascript\n",
    "$ truffle init               \n",
    "Downloading...\n",
    "Unpacking...\n",
    "Setting up...\n",
    "Unbox successful. Sweet!\n",
    "\n",
    "Commands:\n",
    "\n",
    "  Compile:        truffle compile\n",
    "  Migrate:        truffle migrate\n",
    "  Test contracts: truffle test\n",
    "```\n",
    "\n",
    "truffle会自动下载一个空的项目工程并提供编译、部署、测试三个命令工具。"
   ]
  },
  {
   "cell_type": "markdown",
   "metadata": {},
   "source": [
    "项目初始化后目录结构如下：\n",
    "\n",
    "```\n",
    ".\n",
    "├── contracts               \n",
    "│   └── Migrations.sol\n",
    "├── migrations\n",
    "│   └── 1_initial_migration.js\n",
    "├── test\n",
    "├── truffle-config.js\n",
    "└── truffle.js\n",
    "\n",
    "```\n",
    "其中**contracts**文件夹是用来存放智能合约的地方；\n",
    "\n",
    "**migrations**文件夹用来实现部署智能合约的功能；\n",
    "\n",
    "**test**文件夹用来存放合约的测试文件；\n",
    "\n",
    "**truffle.js**默认配置文件\n",
    "\n",
    "**truffle-config.js**Windows下默认配置文件名与truffle冲突，可使用该文件解决"
   ]
  },
  {
   "cell_type": "markdown",
   "metadata": {},
   "source": [
    "项目初始化后需要修改配置文件，本文中使用了Ganache, 设置为本地的8545端口，修改truffle.js文件如下：\n",
    "\n",
    "```javascript\n",
    "module.exports = {\n",
    "  networks: {\n",
    "    development: {\n",
    "      host: \"127.0.0.1\",\n",
    "      port: 8545,\n",
    "      network_id: \"*\" // Match any network id\n",
    "    }\n",
    "  }\n",
    "};\n",
    "\n",
    "```"
   ]
  },
  {
   "cell_type": "markdown",
   "metadata": {},
   "source": [
    "设置完成后就可以开始实现智能合约了。"
   ]
  },
  {
   "cell_type": "markdown",
   "metadata": {},
   "source": [
    "一个简单的HelloWord智能合约大致如下：\n",
    "\n",
    "```javascript\n",
    "pragma solidity ^0.4.16;\n",
    "\n",
    "\n",
    "contract HelloWorld {\n",
    "    function renderHelloWorld() public pure returns (string) {\n",
    "        return \"Hello World\";\n",
    "    }\n",
    "}\n",
    "```"
   ]
  },
  {
   "cell_type": "markdown",
   "metadata": {},
   "source": [
    "上面实现了一个输出“Hello World”的智能合约。在contracts文件夹中新建一个HelloWorld.sol文件，并将上面内容保存到这个文件中。保存完成后目录结构如下:\n",
    "\n",
    "```\n",
    ".\n",
    "├── contracts\n",
    "│   ├── HelloWorld.sol\n",
    "│   └── Migrations.sol\n",
    "├── migrations\n",
    "│   └── 1_initial_migration.js\n",
    "├── test\n",
    "├── truffle-config.js\n",
    "└── truffle.js\n",
    "\n",
    "```"
   ]
  },
  {
   "cell_type": "markdown",
   "metadata": {},
   "source": [
    "然后用truffle进行编译。\n",
    "\n",
    "```shell\n",
    "$ truffle compile\n",
    "Compiling ./contracts/HelloWorld.sol...\n",
    "Compiling ./contracts/Migrations.sol...\n",
    "Writing artifacts to ./build/contracts\n",
    "```"
   ]
  },
  {
   "cell_type": "markdown",
   "metadata": {},
   "source": [
    "编译成功后会当前目录的build文件夹下生成新的文件。下一步就是将智能合约部署到以太坊网络上，在migrations文件夹下新建一个，内容如下：\n",
    "```javascript\n",
    "var HelloWorld = artifacts.require(\"HelloWorld\");  // 获取HelloWorld合约 \n",
    "module.exports = function(deployer) {\n",
    "    deployer.deploy(HelloWorld);                  // 部署到以太坊上\n",
    "};\n",
    "```\n",
    "\n",
    "保存后当前目录结构如下：\n",
    "\n",
    "```\n",
    ".\n",
    "├── build\n",
    "│   └── contracts\n",
    "│       ├── HelloWorld.json\n",
    "│       └── Migrations.json\n",
    "├── contracts\n",
    "│   ├── HelloWorld.sol\n",
    "│   └── Migrations.sol\n",
    "├── migrations\n",
    "│   ├── 1_initial_migration.js\n",
    "│   └── 2_deploy_contracts.js\n",
    "├── test\n",
    "├── truffle-config.js\n",
    "└── truffle.js\n",
    "\n",
    "```\n",
    "\n",
    "使用`truffle migrate`命令进行部署。\n",
    "\n",
    "```\n",
    "$ truffle migrate       \n",
    "\n",
    "Using network 'development'.\n",
    "\n",
    "Running migration: 1_initial_migration.js\n",
    "  Deploying Migrations...\n",
    "  ... 0x023e8ae8837ea28c9672f2adfba4f8a693bdb0483c4dd44bc69946e8f2a33b36\n",
    "  Migrations: 0x45482a119882930486c0dd210dff81e0eb451fa2\n",
    "Saving successful migration to network...\n",
    "  ... 0xec903ccaee280965b6ec3172df382efb614f798ae31c66a167554e02191d3000\n",
    "Saving artifacts...\n",
    "Running migration: 2_deploy_contracts.js\n",
    "  Deploying HelloWorld...\n",
    "  ... 0x6f6e5e213cf109d6780eca1d687b8cd04efcc4ce4c7682c2c1e84a7be4f8b4da\n",
    "  HelloWorld: 0x5878837601cb2d5da7190c4c42f6a5399ca96784\n",
    "Saving successful migration to network...\n",
    "  ... 0xf815aba07df8a2e9981ea2360c3f37abf01d6ec61059329aa8a4d36b912fc5c5\n",
    "Saving artifacts...\n",
    "```"
   ]
  },
  {
   "cell_type": "markdown",
   "metadata": {},
   "source": [
    "到这里，智能合约这部分已经完成了，接下来是给智能合约做个UI，实现一个DApp。\n",
    "\n",
    "在当前目录下新建一个app的文件夹，然后在该文件夹中创建index.html,app.js 这两个文件, 再把前面编译生成的文件HelloWorld.json拷贝到这里(build目录下）。另外需要下载几个js库，一个是常用的jquery.js, 一个是用来与以太坊节点交互的web3.js(它通过RPC的方式与节点进行通信)，还有一个是truffle-contract.js, 它是对智能合约的js封装。app的目录结构如下：\n",
    "```\n",
    ".\n",
    "├── HelloWorld.json\n",
    "├── app.js\n",
    "├── index.html\n",
    "└── js\n",
    "    ├── jquery.min.js\n",
    "    ├── truffle-contract.js\n",
    "    └── web3.min.js\n",
    "```"
   ]
  },
  {
   "cell_type": "markdown",
   "metadata": {},
   "source": [
    "在index.html中实现了一个简单文本块，并将需要的js文件引用进来，内容如下:\n",
    "\n",
    "```html\n",
    "<!DOCTYPE html>\n",
    "<html lang=\"en\">\n",
    "<head>\n",
    "    <meta charset=\"UTF-8\">\n",
    "    <title>Demo</title>\n",
    "</head>\n",
    "<body>\n",
    "    <div style=\"text-align:center;font-size:50px\" id='content'>\n",
    "        加载中...\n",
    "    </div>\n",
    "</body>\n",
    "<script src=\"js/jquery.min.js\"></script>\n",
    "<script src=\"js/web3.min.js\"></script>\n",
    "<script src=\"js/truffle-contract.js\"></script>\n",
    "<script src=\"app.js\"></script>\n",
    "</html>\n",
    "```\n",
    "\n",
    "页面上默认显示“加载中”\n",
    "\n",
    "![truffle_tutorial1.png](truffle_tutorial1.png)"
   ]
  },
  {
   "cell_type": "markdown",
   "metadata": {},
   "source": [
    "在app.js中，将会加载HelloWorld智能合约，加载后调用合约中的函数并修改网页显示，文件内容如下：\n",
    "```javascript\n",
    "$(function() {\n",
    "  $(window).load(function() {\n",
    "      // 初始化web3，使用本地的8545端口\n",
    "      var web3Provider = new Web3.providers.HttpProvider('http://localhost:8545');\n",
    "\n",
    "      // 获取智能合约的ABI（Application Binary Interface）文件\n",
    "      $.getJSON('HelloWorld.json', function(data){\n",
    "          var HelloWorldArtifact = data;\n",
    "\n",
    "          // 初始化智能合约\n",
    "          HelloWorldContract = TruffleContract(HelloWorldArtifact);\n",
    "          HelloWorldContract.setProvider(web3Provider);\n",
    "\n",
    "          // 通过默认的合约地址获取实例\n",
    "          HelloWorldContract.deployed()\n",
    "          .then(function(instance){\n",
    "\n",
    "              // 通过获取到实例调用函数，这里函数返回的是一个promise对象\n",
    "              instance.renderHelloWorld().then(function(result){\n",
    "                  // 更新页面内容\n",
    "                  // $(\"#content\").text(result);\n",
    "              })\n",
    "         }).catch(function(err){\n",
    "                console.log(err.message);\n",
    "         })\n",
    "\n",
    "      })\n",
    "  });\n",
    "});\n",
    "\n",
    "```"
   ]
  },
  {
   "cell_type": "markdown",
   "metadata": {},
   "source": [
    "以上DApp基本实现完成，然后是它的启动，这里是lite-server来启动。\n",
    "\n",
    "1. 初始化一个package.json\n",
    "\n",
    "```\n",
    "$ npm init\n",
    "```\n",
    "\n",
    "2. 更新package.json内容如下：\n",
    "\n",
    "```\n",
    "{\n",
    "  \"name\": \"pet-shop\",\n",
    "  \"version\": \"1.0.0\",\n",
    "  \"description\": \"\",\n",
    "  \"main\": \"truffle.js\",\n",
    "  \"directories\": {\n",
    "    \"test\": \"test\"\n",
    "  },\n",
    "  \"scripts\": {\n",
    "    \"dev\": \"lite-server\",\n",
    "    \"test\": \"echo \\\"Error: no test specified\\\" && exit 1\"\n",
    "  },\n",
    "  \"author\": \"\",\n",
    "  \"license\": \"ISC\",\n",
    "  \"devDependencies\": {\n",
    "    \"lite-server\": \"^2.3.0\"\n",
    "  }\n",
    "}\n",
    "```\n",
    "\n",
    "3. 安装lite-server\n",
    "```\n",
    "$ npm install\n",
    "```\n",
    "\n",
    "4. 启动\n",
    "```\n",
    "$ npm run dev\n",
    "```"
   ]
  },
  {
   "cell_type": "markdown",
   "metadata": {},
   "source": [
    "打开浏览器，访问localhost:3000就可以看到如下效果。\n",
    "![truffle_tutorial2.png](truffle_tutorial2.png)"
   ]
  },
  {
   "cell_type": "markdown",
   "metadata": {},
   "source": [
    "这只是一个简单的智能合约示例，只是输出了一个“Hello World”字符串，实际上智能合约中还要涉及到虚拟货币的消耗和交易，这些将在下一篇中讲解，下一篇将实现一个DApp小游戏。"
   ]
  }
 ],
 "metadata": {
  "kernelspec": {
   "display_name": "Python 3",
   "language": "python",
   "name": "python3"
  },
  "language_info": {
   "codemirror_mode": {
    "name": "ipython",
    "version": 3
   },
   "file_extension": ".py",
   "mimetype": "text/x-python",
   "name": "python",
   "nbconvert_exporter": "python",
   "pygments_lexer": "ipython3",
   "version": "3.5.1"
  }
 },
 "nbformat": 4,
 "nbformat_minor": 2
}
