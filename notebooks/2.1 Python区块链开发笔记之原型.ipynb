{
 "cells": [
  {
   "cell_type": "markdown",
   "metadata": {},
   "source": [
    "在之前的文章(区块链基础一文)中，已经实现了一个简单的区块链。但凭借一个100行实现的区块链肯定是找不到一个好的工作机会的。\n",
    "因此接下来打算实现一个功能较为全面的区块链项目，支持账户、交易、网络等功能。相关文档和代码会放到Github上，欢迎交流和学习。\n",
    "\n",
    "在本文中，将会基于之前开发的区块链实现一个简单的原型，过程如下：\n",
    "\n",
    "1. 定义区块头和区块结构；\n",
    "2. 定义区块链结构；\n",
    "3. "
   ]
  }
 ],
 "metadata": {
  "kernelspec": {
   "display_name": "Python 3",
   "language": "python",
   "name": "python3"
  },
  "language_info": {
   "codemirror_mode": {
    "name": "ipython",
    "version": 3
   },
   "file_extension": ".py",
   "mimetype": "text/x-python",
   "name": "python",
   "nbconvert_exporter": "python",
   "pygments_lexer": "ipython3",
   "version": "3.6.4"
  }
 },
 "nbformat": 4,
 "nbformat_minor": 2
}
