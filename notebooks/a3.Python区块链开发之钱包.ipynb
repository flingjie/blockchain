{
 "cells": [
  {
   "cell_type": "markdown",
   "metadata": {},
   "source": [
    "钱包，简单讲来说它连接区块链的一个入口，用来管理账号和交易。区块链账号其实是指一对密钥，包括一个私钥和一个公钥。私钥是一串字符串，通常是随机选出的。有了私钥，使用非对称加密算法这个单向加密函数产生一个公钥，反之，用公钥是无法得到私钥的。有了公钥，就可以使用一个单向加密哈希函数生成区块链地址。"
   ]
  },
  {
   "cell_type": "markdown",
   "metadata": {},
   "source": [
    ">在比特币中，会先随机数发生器中生成一个私钥，私钥使用椭圆加密算法可以产生一个公钥。在公钥的基础上进行双哈希可以生成一个地址。\n",
    "\n",
    "![bitcoin_crypto.png](bitcoin_crypto.png)"
   ]
  },
  {
   "cell_type": "markdown",
   "metadata": {},
   "source": [
    "地址是用来接收Token(虚拟货币)，而密钥对用来产生数字签名和验证交易。方便起见，在本文中将使用RSA算法代替比特币中加密算法。过程如下:\n",
    "\n",
    "1. 随机生成一段字符串作为私钥；\n",
    "2. 私钥经过RSA算法生成公钥；\n",
    "3. 通过公钥在产生地址；\n",
    "4. 用PKCS1_v1_5产生数字签名和验证签名。"
   ]
  },
  {
   "cell_type": "code",
   "execution_count": 38,
   "metadata": {},
   "outputs": [],
   "source": [
    "# -*- coding: utf-8 -*-\n",
    "import Crypto\n",
    "import Crypto.Random\n",
    "from Crypto.Hash import SHA\n",
    "from Crypto.PublicKey import RSA\n",
    "from Crypto.Signature import PKCS1_v1_5\n",
    "import binascii\n",
    "import base58\n",
    "\n",
    "\n",
    "class Wallet:\n",
    "    \"\"\"\n",
    "        钱包\n",
    "    \"\"\"\n",
    "    def __init__(self):\n",
    "        random_gen = Crypto.Random.new().read\n",
    "        self._private_key = RSA.generate(1024, random_gen)\n",
    "        self.public_key = self._private_key.publickey()\n",
    "        self._signer = PKCS1_v1_5.new(self._private_key)\n",
    "\n",
    "    @property\n",
    "    def address(self):\n",
    "        \"\"\"\n",
    "            通过公钥生成地址\n",
    "        \"\"\"\n",
    "        h = SHA.new(self.public_key.exportKey(format='DER'))\n",
    "        return base58.b58encode(h.digest())\n",
    "\n",
    "    def sign(self, message):\n",
    "        \"\"\"\n",
    "            生成数字签名\n",
    "        \"\"\"\n",
    "        h = SHA.new(message.encode('utf8'))\n",
    "        return binascii.hexlify(self._signer.sign(h)).decode('ascii')\n",
    "\n",
    "\n",
    "def verify_sign(pubkey, message, signature):\n",
    "    \"\"\"\n",
    "        验证签名\n",
    "    \"\"\"\n",
    "    verifier = PKCS1_v1_5.new(pubkey)\n",
    "    h = SHA.new(message.encode('utf8'))\n",
    "    return verifier.verify(h, binascii.unhexlify(signature))"
   ]
  },
  {
   "cell_type": "code",
   "execution_count": 39,
   "metadata": {},
   "outputs": [
    {
     "data": {
      "text/plain": [
       "'2MRNQinFVnC8q3QZ4FkXHfhRh3C3'"
      ]
     },
     "execution_count": 39,
     "metadata": {},
     "output_type": "execute_result"
    }
   ],
   "source": [
    "# 新建钱包\n",
    "w1 = Wallet()\n",
    "\n",
    "# 地址\n",
    "w1.address"
   ]
  },
  {
   "cell_type": "code",
   "execution_count": 40,
   "metadata": {},
   "outputs": [
    {
     "name": "stdout",
     "output_type": "stream",
     "text": [
      "验证成功！\n"
     ]
    }
   ],
   "source": [
    "# 签名和验证\n",
    "\n",
    "data = \"Hello Blockchain\"\n",
    "sign = w1.sign(data)\n",
    "if verify_sign(w1.public_key, data, sign):\n",
    "    print('验证成功！')\n",
    "else:\n",
    "    print('验证失败！')"
   ]
  },
  {
   "cell_type": "markdown",
   "metadata": {},
   "source": [
    "接下来新建一个界面用来管理钱包，主要代码如下："
   ]
  },
  {
   "cell_type": "code",
   "execution_count": null,
   "metadata": {},
   "outputs": [],
   "source": [
    "# app.py\n",
    "\n",
    "@app.route(\"/wallets\", methods=[\"GET\", \"POST\"])\n",
    "def wallets():\n",
    "    wallet_list = load_data()\n",
    "    if request.method == \"POST\":\n",
    "        wallet = Wallet()\n",
    "        wallet_list.append(wallet)\n",
    "        save_data(wallet_list)\n",
    "    return render_template(\"wallets.html\", wallets=wallet_list)"
   ]
  },
  {
   "cell_type": "markdown",
   "metadata": {},
   "source": [
    "```html\n",
    "<!-- wallets.html -->\n",
    "\n",
    "{% extends \"base.html\" %}\n",
    "{% block content %}\n",
    "<div class=\"container\">\n",
    "  <div class=\"text-center\">\n",
    "      <div>\n",
    "          <h1>钱包管理工具</h1>\n",
    "          <p>点击下面按钮生成新的钱包</p>\n",
    "          <form method=\"post\">\n",
    "            <button class=\"btn btn-primary\" type=\"submit\">新建钱包</button>\n",
    "          </form>\n",
    "      </div>\n",
    "      <div>\n",
    "          <table class=\"table\">\n",
    "              <thead>\n",
    "                <tr>\n",
    "                  <th scope=\"col\">#</th>\n",
    "                  <th scope=\"col\">地址</th>\n",
    "                </tr>\n",
    "              </thead>\n",
    "              <tbody>\n",
    "                {% for i in wallets %}\n",
    "                <tr>\n",
    "                  <th scope=\"row\">账号{{ loop.index }}</th>\n",
    "                  <td>{{ i.address }}</td>\n",
    "                </tr>\n",
    "                {% endfor %}\n",
    "              </tbody>\n",
    "            </table>\n",
    "      </div>\n",
    "      <hr>\n",
    "      <div></div>\n",
    "    </div>\n",
    "</div>\n",
    "{% endblock %}\n",
    "```"
   ]
  },
  {
   "cell_type": "markdown",
   "metadata": {},
   "source": [
    "完整代码可以到GitHub([https://github.com/flingjie/blockchain](https://github.com/flingjie/blockchain))上查看，效果如下:\n",
    "\n",
    "![wallets.png](wallets.png)"
   ]
  }
 ],
 "metadata": {
  "kernelspec": {
   "display_name": "Python 3",
   "language": "python",
   "name": "python3"
  },
  "language_info": {
   "codemirror_mode": {
    "name": "ipython",
    "version": 3
   },
   "file_extension": ".py",
   "mimetype": "text/x-python",
   "name": "python",
   "nbconvert_exporter": "python",
   "pygments_lexer": "ipython3",
   "version": "3.6.4"
  }
 },
 "nbformat": 4,
 "nbformat_minor": 2
}
