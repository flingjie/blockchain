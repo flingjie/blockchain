{
 "cells": [
  {
   "cell_type": "markdown",
   "metadata": {},
   "source": [
    "在前面区块链的架构部分介绍过区块链的产生过程，如下图"
   ]
  },
  {
   "cell_type": "markdown",
   "metadata": {},
   "source": [
    "![区块链](./blockchain_basic.png)"
   ]
  },
  {
   "cell_type": "markdown",
   "metadata": {},
   "source": [
    "简单来说，区块链就是把(加密)数据存入区块中，经“挖矿”加入整个链条，生成的永久、不可逆向修改的记录。在本节中，将从代码的角度深入理解这一过程。实践是最好的老师，下面将动手实现一个简单的区块链。"
   ]
  },
  {
   "cell_type": "markdown",
   "metadata": {
    "collapsed": true
   },
   "source": [
    "为方便讲解区块链基础，在下面开始用Python实现一个简化版的区块链。区块的数据结构如下：\n",
    "\n",
    "|    字段    | 描述              \n",
    "| :---------- |\t----------------   |\t\n",
    "|identifier     |\t一个唯一的字符串作为标示|\n",
    "|previous_hash\t    |前一个区块的哈希值|\n",
    "|data|\t区块中的数据|\n",
    "|nonce\t\t    |随机数，用来找到正确的哈希值|"
   ]
  },
  {
   "cell_type": "markdown",
   "metadata": {},
   "source": [
    "其中identifier这个唯一的字符串可以用python的uuid库uuid4()生成。previous_hash是在接入区块链的时候赋值。data是区块中写入的任意数据。比较特别的是nonce，它有什么用呢？它的作用很简单，用来找到正确哈希值。"
   ]
  },
  {
   "cell_type": "markdown",
   "metadata": {},
   "source": [
    "至于为什么要找正确的哈希值，就要讲到区块的有效性。由上图中可以看到，区块链中的区块不是新生成就完成，而是需要通过“挖矿”这一步骤才可以。简单来说，挖矿的本质就是找到一个合适的nonce值使得区块的哈希值有效。\n",
    "\n",
    "![区块链](./mining.png)"
   ]
  },
  {
   "cell_type": "markdown",
   "metadata": {},
   "source": [
    "### 挖矿 ###"
   ]
  },
  {
   "cell_type": "markdown",
   "metadata": {},
   "source": [
    "哈希值是通过哈希算法计算得到的一段二进制值，不同的数据得到不同的哈希值。"
   ]
  },
  {
   "cell_type": "code",
   "execution_count": 1,
   "metadata": {},
   "outputs": [
    {
     "data": {
      "text/plain": [
       "'a591a6d40bf420404a011733cfb7b190d62c65bf0bcda32b57b277d9ad9f146e'"
      ]
     },
     "execution_count": 1,
     "metadata": {},
     "output_type": "execute_result"
    }
   ],
   "source": [
    "# 这里举个简单的例子\n",
    "\n",
    "# 导入相关类库\n",
    "import hashlib\n",
    "\n",
    "# 定义数据\n",
    "data = \"Hello World\"\n",
    "\n",
    "# 计算哈希值\n",
    "msg = hashlib.sha256()\n",
    "msg.update(data.encode('utf-8')) # 主要计算前必须将数据转成utf－8\n",
    "msg.hexdigest()"
   ]
  },
  {
   "cell_type": "markdown",
   "metadata": {},
   "source": [
    "上面就一个哈希值，如果修改数据，比如添加一个nonce值就可以产生不同的哈希值"
   ]
  },
  {
   "cell_type": "code",
   "execution_count": 2,
   "metadata": {},
   "outputs": [
    {
     "data": {
      "text/plain": [
       "'1370eeaaba7a6c7a234b1f82cc3b6d013a0088fd5e16408300f05b28b0015463'"
      ]
     },
     "execution_count": 2,
     "metadata": {},
     "output_type": "execute_result"
    }
   ],
   "source": [
    "nonce = 0\n",
    "msg = hashlib.sha256()\n",
    "msg.update(data.encode('utf-8'))\n",
    "msg.update(str(nonce).encode(\"utf-8\"))\n",
    "msg.hexdigest()"
   ]
  },
  {
   "cell_type": "markdown",
   "metadata": {},
   "source": [
    "在区块链中区块的哈希值必须满足一定条件才能算是有效的区块。这里设定区块的哈希值必须以0000开头才是有效的区块。为了得到以0000开头的哈希值，需要不断的修改nonce（挖矿）直到满足条件。下面定义一个函数来寻找该nonce值。"
   ]
  },
  {
   "cell_type": "code",
   "execution_count": 3,
   "metadata": {
    "collapsed": true
   },
   "outputs": [],
   "source": [
    "def mine(data):\n",
    "    nonce = 0   # nonce初始值为0\n",
    "    \n",
    "    # 寻找正确的哈希值\n",
    "    while True:\n",
    "        msg = hashlib.sha256()\n",
    "        msg.update(data.encode(\"utf-8\"))\n",
    "        msg.update(str(nonce).encode(\"utf-8\"))\n",
    "        hash_code = msg.hexdigest()\n",
    "        \n",
    "        # 如果满足条件，打印相应值并退出循环\n",
    "        if hash_code.startswith(\"0000\"):\n",
    "            print(\"nonce:{}\".format(nonce))\n",
    "            print(\"hash:{}\".format(hash_code))\n",
    "            break\n",
    "        # 否则继续寻找\n",
    "        else:\n",
    "            nonce += 1"
   ]
  },
  {
   "cell_type": "code",
   "execution_count": 4,
   "metadata": {},
   "outputs": [
    {
     "name": "stdout",
     "output_type": "stream",
     "text": [
      "nonce:104803\n",
      "hash:000022635160d3ae1c8c90261e0df5eb6538d7f6d42108d6ffdec17b585fb464\n"
     ]
    }
   ],
   "source": [
    "mine(\"Hello, World\")"
   ]
  },
  {
   "cell_type": "markdown",
   "metadata": {},
   "source": [
    "![区块链](./mining2.png)"
   ]
  },
  {
   "cell_type": "markdown",
   "metadata": {},
   "source": [
    "上面只是用data和nonce来计算哈希值，实际区块链中还会包含其他字段。下面定义一个区块的数据结构。"
   ]
  },
  {
   "cell_type": "markdown",
   "metadata": {},
   "source": [
    "### 实现区块结构 ###"
   ]
  },
  {
   "cell_type": "code",
   "execution_count": 83,
   "metadata": {
    "collapsed": true
   },
   "outputs": [],
   "source": [
    "# block.py\n",
    "\n",
    "import hashlib\n",
    "import uuid\n",
    "\n",
    "\n",
    "class Block(object):\n",
    "    def __init__(self, data=None, previous=None):\n",
    "        self.identifier = uuid.uuid4().hex   # 产生唯一标示\n",
    "        self.previous = previous            # 父节点\n",
    "        if previous:\n",
    "            self.previous_hash = previous.hash() # 父节点哈希值\n",
    "        else:\n",
    "            self.previous_hash = None\n",
    "        self.data = data                     # 区块内容\n",
    "        self.nonce = 0                    # nonce值\n",
    "        \n",
    "    def hash(self):\n",
    "        '''\n",
    "        计算区块的哈希值，包括区块的标示、数据、前一区块的哈希值和nonce值\n",
    "        '''\n",
    "        message = hashlib.sha256()\n",
    "        message.update(self.identifier.encode('utf-8'))\n",
    "        message.update(str(self.nonce).encode('utf-8'))\n",
    "        message.update(str(self.data).encode('utf-8'))\n",
    "        if self.previous:\n",
    "            message.update(str(self.previous_hash.encode('utf-8')))\n",
    "        return message.hexdigest()\n",
    "    \n",
    "    def refresh_hash(self):\n",
    "        if self.previous:\n",
    "            self.previous_hash = previous.hash() # 父节点哈希值\n",
    "        else:\n",
    "            self.previous_hash = None\n",
    "    \n",
    "    def mine(self):\n",
    "        '''\n",
    "            挖矿函数\n",
    "        '''\n",
    "        # 初始化nonce为0\n",
    "        cur_nonce = self.nonce or 0\n",
    "\n",
    "        # 循环直到生成一个有效的哈希值\n",
    "        while True:\n",
    "            if self.hash_is_valid():   # 如果生成的哈希值有效\n",
    "                break                          # 退出\n",
    "            else:\n",
    "                self.nonce += 1   # 若当前哈希值无效，更新nonce值，进行加1操作\n",
    "                \n",
    "\n",
    "    def hash_is_valid(self):\n",
    "        '''\n",
    "        校验区块哈希值有否有效\n",
    "        '''\n",
    "        return self.hash().startswith('0000')\n",
    "\n",
    "    def __repr__(self):\n",
    "        return 'Block<identifier: {}>'.format(self.identifier)"
   ]
  },
  {
   "cell_type": "markdown",
   "metadata": {},
   "source": [
    "以上就是一个区块结构，这里的区块包含一个唯一标识符、父节点的哈希值、nonce值和该区块的内容字段。其中定义一个mine函数用了寻找合适的nonce值。另外定义了一个hash_is_valid函数用来判断这个是否以0000开头，即是否有效。下面对这个区块结构进行初始化。"
   ]
  },
  {
   "cell_type": "code",
   "execution_count": 84,
   "metadata": {
    "collapsed": true
   },
   "outputs": [],
   "source": [
    "# 创建一个内容为hello world的内容块\n",
    "\n",
    "block = Block('Hello, World')"
   ]
  },
  {
   "cell_type": "code",
   "execution_count": 85,
   "metadata": {},
   "outputs": [
    {
     "data": {
      "text/plain": [
       "False"
      ]
     },
     "execution_count": 85,
     "metadata": {},
     "output_type": "execute_result"
    }
   ],
   "source": [
    "# 区块链的有效性\n",
    "block.hash_is_valid()"
   ]
  },
  {
   "cell_type": "code",
   "execution_count": 86,
   "metadata": {
    "collapsed": true
   },
   "outputs": [],
   "source": [
    "# 挖矿，循环直至找到合适的nonce\n",
    "block.mine()"
   ]
  },
  {
   "cell_type": "code",
   "execution_count": 87,
   "metadata": {},
   "outputs": [
    {
     "data": {
      "text/plain": [
       "True"
      ]
     },
     "execution_count": 87,
     "metadata": {},
     "output_type": "execute_result"
    }
   ],
   "source": [
    "# 再次检查区块的有效性\n",
    "block.hash_is_valid()"
   ]
  },
  {
   "cell_type": "markdown",
   "metadata": {},
   "source": [
    "至此，第一个有效的区块生成完成，下面开始实现区块链。"
   ]
  },
  {
   "cell_type": "markdown",
   "metadata": {},
   "source": [
    "### 实现区块链结构 ###"
   ]
  },
  {
   "cell_type": "code",
   "execution_count": 88,
   "metadata": {
    "collapsed": true
   },
   "outputs": [],
   "source": [
    "class BlockChain(object):\n",
    "    def __init__(self):\n",
    "        self.head = None   # 指向最新的一个区块\n",
    "        self.blocks = {}   # 包含所有区块的一个字典\n",
    "\n",
    "    '''\n",
    "        添加区块函数\n",
    "    '''\n",
    "    def add_block(self, new_block):\n",
    "        new_block.previous = new_block.previous\n",
    "        new_block.mine()\n",
    "\n",
    "        self.blocks[new_block.identifier] = block\n",
    "        self.head = new_block\n",
    "\n",
    "    def __repr__(self):\n",
    "        num_existing_blocks = len(self.blocks)\n",
    "        return 'Blockchain<{} Blocks, Head: {}>'.format(\n",
    "            num_existing_blocks,\n",
    "            self.head.identifier if self.head else None\n",
    "        )"
   ]
  },
  {
   "cell_type": "markdown",
   "metadata": {},
   "source": [
    "定义好区块链结构后，下面就开始初始化一条区块链。"
   ]
  },
  {
   "cell_type": "code",
   "execution_count": 89,
   "metadata": {},
   "outputs": [
    {
     "data": {
      "text/plain": [
       "Blockchain<0 Blocks, Head: None>"
      ]
     },
     "execution_count": 89,
     "metadata": {},
     "output_type": "execute_result"
    }
   ],
   "source": [
    "# 初始化\n",
    "chain = BlockChain()\n",
    "\n",
    "# 打印\n",
    "chain"
   ]
  },
  {
   "cell_type": "code",
   "execution_count": 90,
   "metadata": {},
   "outputs": [
    {
     "data": {
      "text/plain": [
       "Blockchain<1 Blocks, Head: 1294d073adf5476db720d7b2e752d62b>"
      ]
     },
     "execution_count": 90,
     "metadata": {},
     "output_type": "execute_result"
    }
   ],
   "source": [
    "# 添加区块\n",
    "chain.add_block(block)\n",
    "\n",
    "# 打印\n",
    "chain"
   ]
  },
  {
   "cell_type": "code",
   "execution_count": 91,
   "metadata": {},
   "outputs": [
    {
     "data": {
      "text/plain": [
       "Blockchain<7 Blocks, Head: 7f8291bedac845af8637112136c41fd3>"
      ]
     },
     "execution_count": 91,
     "metadata": {},
     "output_type": "execute_result"
    }
   ],
   "source": [
    "# 添加更多的区块\n",
    "\n",
    "for i in range(6):\n",
    "    new_block = Block(i)\n",
    "    chain.add_block(new_block)\n",
    "    \n",
    "# 打印\n",
    "chain"
   ]
  },
  {
   "cell_type": "code",
   "execution_count": 92,
   "metadata": {},
   "outputs": [
    {
     "name": "stdout",
     "output_type": "stream",
     "text": [
      "a70c66dec8154a37864838638bc1ef71 is valid\n",
      "a70c66dec8154a37864838638bc1ef71 is valid\n",
      "a70c66dec8154a37864838638bc1ef71 is valid\n",
      "a70c66dec8154a37864838638bc1ef71 is valid\n",
      "a70c66dec8154a37864838638bc1ef71 is valid\n",
      "a70c66dec8154a37864838638bc1ef71 is valid\n",
      "a70c66dec8154a37864838638bc1ef71 is valid\n"
     ]
    }
   ],
   "source": [
    "for i,v in chain.blocks.items():\n",
    "    if v.hash_is_valid():\n",
    "        print(\"{} is valid\".format(k))\n",
    "    else:\n",
    "        print(\"\\033[0;31m{} is invalid\\033[0m\")"
   ]
  },
  {
   "cell_type": "markdown",
   "metadata": {},
   "source": [
    "以上就是一个简单区块链，可以看到当前的区块都是有效的。但是，值的注意的是，每个区块包括前一个区块的哈希值，所以，当区块链中一个区块被改变后，这个区块的哈希就会改变，从而影响到这块区块之后的区块。"
   ]
  },
  {
   "cell_type": "code",
   "execution_count": 93,
   "metadata": {},
   "outputs": [
    {
     "data": {
      "text/plain": [
       "False"
      ]
     },
     "execution_count": 93,
     "metadata": {},
     "output_type": "execute_result"
    }
   ],
   "source": [
    "# 比如改变第一个区块的内容\n",
    "block.data = \"Modify Data\"\n",
    "block.hash_is_valid()"
   ]
  },
  {
   "cell_type": "markdown",
   "metadata": {},
   "source": [
    "![区块链](./invalid_block.png)"
   ]
  },
  {
   "cell_type": "markdown",
   "metadata": {},
   "source": [
    "这将使这个区块哈希值改变并导致区块无效，并且，这个修改将影响之后的区块，因为之后的区块中的previous_hash依赖于前面的区块。改变如下："
   ]
  },
  {
   "cell_type": "code",
   "execution_count": 95,
   "metadata": {},
   "outputs": [
    {
     "name": "stdout",
     "output_type": "stream",
     "text": [
      "\u001b[0;31mb41171e618334412871495fb6d6f1a28 is invalid\u001b[0m\n",
      "\u001b[0;31m1294d073adf5476db720d7b2e752d62b is invalid\u001b[0m\n",
      "\u001b[0;31m97dd4e3905584c18ab2028c92b3afaad is invalid\u001b[0m\n",
      "\u001b[0;31m02cb150841d6420ead9388d0ecfa3eef is invalid\u001b[0m\n",
      "\u001b[0;31m7f8291bedac845af8637112136c41fd3 is invalid\u001b[0m\n",
      "\u001b[0;31m2cfe78eac1db48f099a10ea968d468dd is invalid\u001b[0m\n",
      "\u001b[0;31m2119e357b03442e1bbc12f355ffdf00c is invalid\u001b[0m\n"
     ]
    }
   ],
   "source": [
    "for k,v in chain.blocks.items():\n",
    "    # 更新区块\n",
    "    v.refresh_hash()\n",
    "    if v.hash_is_valid():\n",
    "        print(\"{} is valid\".format(k))\n",
    "    else:\n",
    "        print(\"\\033[0;31m{} is invalid\\033[0m\".format(k))"
   ]
  },
  {
   "cell_type": "markdown",
   "metadata": {},
   "source": [
    "可以看到由于前面区块的改变导致之后的区块也无效了。"
   ]
  },
  {
   "cell_type": "markdown",
   "metadata": {},
   "source": [
    "![区块链](./invalid_block2.png)"
   ]
  },
  {
   "cell_type": "markdown",
   "metadata": {},
   "source": [
    "以上模拟了单个用户的区块链操作，在实际过程中挖矿和校验的行为由区块链中其他用户进行的，并根据挖矿产生的劳动得到对应的报酬。这样就保证了单个用户无法修改区块链中的数据。并且这个过程是通过加密算法进行的，这就实现了区块链的去信任。"
   ]
  },
  {
   "cell_type": "markdown",
   "metadata": {},
   "source": [
    "![区块链](./blockchain.png)"
   ]
  },
  {
   "cell_type": "code",
   "execution_count": null,
   "metadata": {
    "collapsed": true
   },
   "outputs": [],
   "source": []
  }
 ],
 "metadata": {
  "kernelspec": {
   "display_name": "Python 3",
   "language": "python",
   "name": "python3"
  },
  "language_info": {
   "codemirror_mode": {
    "name": "ipython",
    "version": 3
   },
   "file_extension": ".py",
   "mimetype": "text/x-python",
   "name": "python",
   "nbconvert_exporter": "python",
   "pygments_lexer": "ipython3",
   "version": "3.6.4"
  }
 },
 "nbformat": 4,
 "nbformat_minor": 2
}
