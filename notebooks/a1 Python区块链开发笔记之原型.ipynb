{
 "cells": [
  {
   "cell_type": "markdown",
   "metadata": {},
   "source": [
    "在之前的文章(区块链基础一文)中，已经实现了一个简单的区块链。但凭借一个100行实现的区块链肯定是找不到一个好的工作机会的。\n",
    "因此接下来打算实现一个功能较为全面的区块链项目，支持账户、交易、网络等功能。相关文档和代码会放到Github上，欢迎交流和学习。\n",
    "\n",
    "在本文中，将会基于之前开发的区块链实现一个简单的原型，过程如下：\n",
    "\n",
    "1. 定义区块结构；\n",
    "2. 定义区块链结构；\n",
    "3. 初始化一个区块链。"
   ]
  },
  {
   "cell_type": "markdown",
   "metadata": {},
   "source": [
    "### 定义区块结构"
   ]
  },
  {
   "cell_type": "code",
   "execution_count": 10,
   "metadata": {},
   "outputs": [],
   "source": [
    "# block.py\n",
    "\n",
    "import hashlib\n",
    "from datetime import datetime\n",
    "\n",
    "\n",
    "class Block:\n",
    "    \"\"\"\n",
    "        区块结构体\n",
    "            prev_hash:      父区块哈希值\n",
    "            data:           区块内容\n",
    "            timestamp:      区块创建时间\n",
    "            hash:           区块哈希值\n",
    "    \"\"\"\n",
    "    def __init__(self, data, prev_hash):\n",
    "        self.previous_hash = prev_hash\n",
    "        self.data = data\n",
    "        self.timestamp = datetime.now().strftime(\"%Y-%m-%d %H:%M:%S\")\n",
    "\n",
    "        # 计算区块的哈希值\n",
    "        message = hashlib.sha256()\n",
    "        message.update(str(self.previous_hash).encode('utf-8'))\n",
    "        message.update(str(self.data).encode('utf-8'))\n",
    "        message.update(str(self.timestamp).encode('utf-8'))\n",
    "        self.hash = message.hexdigest()"
   ]
  },
  {
   "cell_type": "markdown",
   "metadata": {},
   "source": [
    "其中需要注意的是第一个区块，也叫创世区块，它是一个特殊的区块，没有父区块，在区块链创建的时候会生成，定义如下："
   ]
  },
  {
   "cell_type": "code",
   "execution_count": 11,
   "metadata": {},
   "outputs": [],
   "source": [
    "# block.py\n",
    "\n",
    "\n",
    "def create_genesis_block():\n",
    "    \"\"\"\n",
    "    生成创世区块,创世区块是第一个区块,故无父区块哈希\n",
    "    :return:\n",
    "    \"\"\"\n",
    "    return Block(data=\"Genesis Block\", prev_hash=\"\")"
   ]
  },
  {
   "cell_type": "markdown",
   "metadata": {},
   "source": [
    "### 定义区块链结构"
   ]
  },
  {
   "cell_type": "code",
   "execution_count": 14,
   "metadata": {},
   "outputs": [],
   "source": [
    "# blockchain.py\n",
    "\n",
    "\n",
    "class BlockChain:\n",
    "    \"\"\"\n",
    "        区块链结构体\n",
    "            blocks:        包含的区块列表\n",
    "    \"\"\"\n",
    "    def __init__(self):\n",
    "        self.blocks = [create_genesis_block()]\n",
    "\n",
    "    def add_block(self, block):\n",
    "        \"\"\"\n",
    "        添加区块\n",
    "        :param block:\n",
    "        :return:\n",
    "        \"\"\"\n",
    "        self.blocks.append(block)\n"
   ]
  },
  {
   "cell_type": "markdown",
   "metadata": {},
   "source": [
    "### 创建区块链"
   ]
  },
  {
   "cell_type": "code",
   "execution_count": 15,
   "metadata": {},
   "outputs": [],
   "source": [
    "def create_bc():\n",
    "    \"\"\"\n",
    "    创建一个区块链\n",
    "    :return:\n",
    "    \"\"\"\n",
    "    bc = BlockChain()\n",
    "\n",
    "    bc.add_block(\"Jack send 0.3 btc to Alice\")\n",
    "    bc.add_block(\"Alice send 0.1 btc to Tom\")"
   ]
  },
  {
   "attachments": {},
   "cell_type": "markdown",
   "metadata": {},
   "source": [
    "上面的函数创建了一个区块链，并生成两个区块，加上创世区块一共三个区块。最后用Flask将生成的区块链展示一下。\n",
    "![blockchain_v1.png](blockchain_v1.png)"
   ]
  }
 ],
 "metadata": {
  "kernelspec": {
   "display_name": "Python 3",
   "language": "python",
   "name": "python3"
  },
  "language_info": {
   "codemirror_mode": {
    "name": "ipython",
    "version": 3
   },
   "file_extension": ".py",
   "mimetype": "text/x-python",
   "name": "python",
   "nbconvert_exporter": "python",
   "pygments_lexer": "ipython3",
   "version": "3.6.4"
  }
 },
 "nbformat": 4,
 "nbformat_minor": 2
}
